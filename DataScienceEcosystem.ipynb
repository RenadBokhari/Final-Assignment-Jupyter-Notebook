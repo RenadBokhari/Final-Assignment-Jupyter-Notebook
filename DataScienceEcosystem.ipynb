{
 "cells": [
  {
   "cell_type": "markdown",
   "id": "430d33a5-fd22-4687-a34c-3555c9362f53",
   "metadata": {
    "tags": []
   },
   "source": [
    "# Data Science Tools and Ecosystem"
   ]
  },
  {
   "cell_type": "markdown",
   "id": "9f040937-886d-4f4c-9cac-9395f71f4708",
   "metadata": {
    "tags": []
   },
   "source": [
    "In this notebook, I will summarize Data Science Tools and Ecosystems that learned in this course."
   ]
  },
  {
   "cell_type": "markdown",
   "id": "0dd61e79-86dc-434c-a4b8-c2b66f2a802f",
   "metadata": {},
   "source": [
    "__Objectives:__\n",
    "\n",
    "* Describe the components of a Data Scientist's toolkit and list various tool categories.\n",
    "* Identify the criteria and roles for determining the language to learn.\n",
    "* List popular languages for Data Science\n",
    "* Describe how to use a learning model to solve a problem.\n",
    "* Describe how to use the notebooks in JupyterLab."
   ]
  },
  {
   "cell_type": "markdown",
   "id": "379d17cb-8984-4ff1-a226-6596a9ebf94e",
   "metadata": {},
   "source": [
    "Some of the popular languages that Data Scientists use are:\n",
    "1. R\n",
    "2. SQL\n",
    "3. Python"
   ]
  },
  {
   "cell_type": "markdown",
   "id": "104766ab-8e98-4033-b7ca-59a95ad75e85",
   "metadata": {},
   "source": [
    "Some of the commonly used libraries used by Data Scientists include:\n",
    "\n",
    "1. Pandas\n",
    "2. NumPy\n",
    "3. Matplotlib\n",
    "4. Seaborn"
   ]
  },
  {
   "cell_type": "markdown",
   "id": "a9265093-0dcb-4a19-9d39-75ffbf583d40",
   "metadata": {},
   "source": [
    "|Data Science Tools|\n",
    "|------------------|\n",
    "|Jupyter Notebooks|\n",
    "|R Studio|\n",
    "|Apache Zeppelin|"
   ]
  },
  {
   "cell_type": "markdown",
   "id": "0ca367bc-fcda-4fae-8466-4c99a9f78822",
   "metadata": {},
   "source": [
    "### Below are a few examples of evaluating arithmetic expressions in Python:\n",
    "\n",
    "* 2+3\n",
    "- (15/3)-4"
   ]
  },
  {
   "cell_type": "code",
   "execution_count": 1,
   "id": "043de852-b910-43dc-8cc6-401d6eb5ec55",
   "metadata": {
    "tags": []
   },
   "outputs": [
    {
     "data": {
      "text/plain": [
       "17"
      ]
     },
     "execution_count": 1,
     "metadata": {},
     "output_type": "execute_result"
    }
   ],
   "source": [
    "# This a simple arithmetic expression to mutiply then add integers\n",
    "(3*4)+5"
   ]
  },
  {
   "cell_type": "code",
   "execution_count": 5,
   "id": "253c4f10-d2a5-43a8-b3f9-c1ef0dad0813",
   "metadata": {
    "tags": []
   },
   "outputs": [
    {
     "name": "stdout",
     "output_type": "stream",
     "text": [
      "3 : 20\n"
     ]
    }
   ],
   "source": [
    "# This will convert 200 minutes to hours by diving by 60\n",
    "h = 200//60\n",
    "m = 200%60\n",
    "print(h,\":\",m)"
   ]
  },
  {
   "cell_type": "markdown",
   "id": "96328298-5a03-41a5-ad84-41ab9bd7c71b",
   "metadata": {},
   "source": [
    "## Author:\n",
    "Renad Bokhari"
   ]
  }
 ],
 "metadata": {
  "kernelspec": {
   "display_name": "Python",
   "language": "python",
   "name": "conda-env-python-py"
  },
  "language_info": {
   "codemirror_mode": {
    "name": "ipython",
    "version": 3
   },
   "file_extension": ".py",
   "mimetype": "text/x-python",
   "name": "python",
   "nbconvert_exporter": "python",
   "pygments_lexer": "ipython3",
   "version": "3.7.12"
  }
 },
 "nbformat": 4,
 "nbformat_minor": 5
}
